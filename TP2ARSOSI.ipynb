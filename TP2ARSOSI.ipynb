{
  "cells": [
    {
      "cell_type": "markdown",
      "metadata": {
        "id": "view-in-github",
        "colab_type": "text"
      },
      "source": [
        "<a href=\"https://colab.research.google.com/github/hajerdnc/HNDS2/blob/main/TP2ARSOSI.ipynb\" target=\"_parent\"><img src=\"https://colab.research.google.com/assets/colab-badge.svg\" alt=\"Open In Colab\"/></a>"
      ]
    },
    {
      "cell_type": "markdown",
      "metadata": {
        "id": "tMOx8YAV6No5"
      },
      "source": [
        "![image.png](attachment:image.png)"
      ]
    },
    {
      "cell_type": "markdown",
      "metadata": {
        "id": "5qT-JTdi6No8"
      },
      "source": [
        "# TP2 (relatif au Chap3ARS)"
      ]
    },
    {
      "cell_type": "markdown",
      "metadata": {
        "id": "jGm6gvzB6No9"
      },
      "source": [
        " ![image.png](attachment:image.png)"
      ]
    },
    {
      "cell_type": "markdown",
      "metadata": {
        "id": "1NezCgkn6No9"
      },
      "source": [
        "## Mésures locales dans un réseau social\n"
      ]
    },
    {
      "cell_type": "code",
      "execution_count": null,
      "metadata": {
        "id": "WGFtKmYn6No-",
        "outputId": "d11d26ea-7d92-4eaf-9217-f0e5a16f0e79"
      },
      "outputs": [
        {
          "data": {
            "image/png": "[encoded data removed]",
            "text/plain": [
              "<Figure size 432x288 with 1 Axes>"
            ]
          },
          "metadata": {},
          "output_type": "display_data"
        }
      ],
      "source": [
        "\n",
        "import networkx as nx\n",
        "\n",
        "import matplotlib.pyplot as plt\n",
        "\n",
        "reseau_social=nx.Graph()\n",
        "options = {\n",
        "      'node_color' : 'pink',\n",
        "      'node_size'  : 2000,\n",
        "      'edge_color' : 'tab:blue',\n",
        "      'with_labels': True\n",
        "    }\n",
        "reseau_social.add_node('1')\n",
        "reseau_social.add_node('2')\n",
        "reseau_social.add_node('3')\n",
        "reseau_social.add_node('4')\n",
        "reseau_social.add_node('5')\n",
        "reseau_social.add_node('6')\n",
        "reseau_social.add_node('7')\n",
        "\n",
        "reseau_social.add_edge('1','2')\n",
        "reseau_social.add_edge('1','4')\n",
        "reseau_social.add_edge('2','3')\n",
        "reseau_social.add_edge('2','4')\n",
        "reseau_social.add_edge('3','4')\n",
        "reseau_social.add_edge('3','5')\n",
        "reseau_social.add_edge('4','5')\n",
        "reseau_social.add_edge('5','6')\n",
        "reseau_social.add_edge('6','7')\n",
        "nx.draw(reseau_social,**options)\n",
        "plt.draw()"
      ]
    },
    {
      "cell_type": "markdown",
      "metadata": {
        "id": "4mzz44pN6No_"
      },
      "source": [
        "![image.png](attachment:image.png)"
      ]
    },
    {
      "cell_type": "markdown",
      "metadata": {
        "id": "XRkdLwJc6No_"
      },
      "source": [
        "### Centralité de degré"
      ]
    },
    {
      "cell_type": "raw",
      "metadata": {
        "id": "HAu74ORD6No_"
      },
      "source": [
        "Degré d'un noeud"
      ]
    },
    {
      "cell_type": "code",
      "execution_count": null,
      "metadata": {
        "id": "AJKX9v0g6No_",
        "outputId": "ca29d8cf-6f42-464d-9523-8e864d5ae704"
      },
      "outputs": [
        {
          "data": {
            "text/plain": [
              "DegreeView({'1': 2, '2': 3, '3': 3, '4': 4, '5': 3, '6': 2, '7': 1})"
            ]
          },
          "execution_count": 2,
          "metadata": {},
          "output_type": "execute_result"
        }
      ],
      "source": [
        "nx.degree(reseau_social)"
      ]
    },
    {
      "cell_type": "raw",
      "metadata": {
        "id": "XHg6QXDc6No_"
      },
      "source": [
        "Centralité de degré"
      ]
    },
    {
      "cell_type": "raw",
      "metadata": {
        "id": "M_h6r20G6No_"
      },
      "source": [
        "Afin d'avoir la centralité de degré (le score standardisé), Il faut diviser le degré de chaque noeud par le nombre de noeuds moins 1 (n-1)"
      ]
    },
    {
      "cell_type": "code",
      "execution_count": null,
      "metadata": {
        "id": "rguafcHS6NpA",
        "outputId": "bcda5851-bc04-495f-dc0f-d4f88299a773"
      },
      "outputs": [
        {
          "data": {
            "text/plain": [
              "{'1': 0.3333333333333333,\n",
              " '2': 0.5,\n",
              " '3': 0.5,\n",
              " '4': 0.6666666666666666,\n",
              " '5': 0.5,\n",
              " '6': 0.3333333333333333,\n",
              " '7': 0.16666666666666666}"
            ]
          },
          "execution_count": 3,
          "metadata": {},
          "output_type": "execute_result"
        }
      ],
      "source": [
        "nx.degree_centrality(reseau_social)"
      ]
    },
    {
      "cell_type": "raw",
      "metadata": {
        "id": "eqP91STm6NpA"
      },
      "source": [
        "N4 est le plus populaire\n",
        "Interpréter les autres centralités"
      ]
    },
    {
      "cell_type": "markdown",
      "metadata": {
        "id": "wclNU8Lw6NpA"
      },
      "source": [
        "Nœud 1 : Sa centralité est de 0.0, suggérant une influence minimale. Il pourrait avoir une moindre importance en termes de médiation.\n",
        "\n",
        "Nœud 2 : Affichant une centralité de 0.0333, ce nœud exerce une influence modeste sur la médiation des chemins les plus courts, bien que moins que le nœud \"5\".\n",
        "\n",
        "Nœud 3 : Avec une centralité de 0.1, il démontre une influence plus marquée que les nœuds précédents, bien qu'inférieure à celle du nœud \"5\".\n",
        "\n",
        "Nœud \"4\" et \"6\" : Présentant une centralité de 0.3333, ces deux nœuds affichent une importance relativement élevée, suggérant qu'ils pourraient jouer un rôle clé dans la connectivité du réseau.\n",
        "\n",
        "Nœud 7 : Possédant une centralité de 0.0, il est rarement situé sur les chemins les plus courts entre les autres nœuds. Il peut avoir une importance moindre dans la transmission d'information ou d'influence."
      ]
    },
    {
      "cell_type": "markdown",
      "metadata": {
        "id": "8wHbWRi36NpA"
      },
      "source": [
        "### Centralité de proximité (Closeness Centrality)"
      ]
    },
    {
      "cell_type": "code",
      "execution_count": null,
      "metadata": {
        "id": "FD-uWfuT6NpA",
        "outputId": "d681e6a6-25fa-4714-b3c2-d7369dc39412"
      },
      "outputs": [
        {
          "data": {
            "text/plain": [
              "{'1': 0.46153846153846156,\n",
              " '2': 0.5,\n",
              " '3': 0.6,\n",
              " '4': 0.6666666666666666,\n",
              " '5': 0.6666666666666666,\n",
              " '6': 0.5,\n",
              " '7': 0.35294117647058826}"
            ]
          },
          "execution_count": 4,
          "metadata": {},
          "output_type": "execute_result"
        }
      ],
      "source": [
        "nx.closeness_centrality(reseau_social)"
      ]
    },
    {
      "cell_type": "raw",
      "metadata": {
        "id": "XmvNnqC46NpA"
      },
      "source": [
        "N4 et N5 sont les plus proches des autres noeuds (en moyenne)\n",
        "Interpréter les autres centralités"
      ]
    },
    {
      "cell_type": "markdown",
      "metadata": {
        "id": "dX1Wmt6j6NpB"
      },
      "source": [
        "Nœud 1 : Avec une centralité de closeness de 0.4615, le nœud \"1\" n'est pas le plus proche en moyenne, mais sa centralité de closeness significative suggère qu'il est bien connecté dans le réseau.\n",
        "\n",
        "Nœud 2 : Affichant une centralité de closeness de 0.5, le nœud \"2\" occupe une position médiane par rapport aux autres nœuds du réseau.\n",
        "\n",
        "Nœud 3 : Sa centralité de closeness de 0.6 témoigne d'une proximité élevée avec d'autres nœuds, indiquant une connexion significative dans le réseau.\n",
        "\n",
        "Nœud 6 : Présentant une centralité de closeness de 0.5, le nœud \"6\" partage une position médiane avec le nœud \"2\" parmi les autres nœuds.\n",
        "\n",
        "Nœud 7 : Affichant une centralité de closeness de 0.3529, le nœud \"7\" présente une proximité moindre, suggérant qu'il est en moyenne plus éloigné des autres nœuds dans le réseau.\n",
        "\n",
        "\n",
        "\n",
        "\n",
        "\n",
        "\n"
      ]
    },
    {
      "cell_type": "markdown",
      "metadata": {
        "id": "MturfnA86NpB"
      },
      "source": [
        "### Centralité d'intermédiarité (Betweenness Centrality)"
      ]
    },
    {
      "cell_type": "code",
      "execution_count": null,
      "metadata": {
        "id": "AYUsPi5e6NpB",
        "outputId": "420d9d61-fdbf-4b5a-90a4-bea423003e09"
      },
      "outputs": [
        {
          "data": {
            "text/plain": [
              "{'1': 0.0,\n",
              " '2': 0.03333333333333333,\n",
              " '3': 0.1,\n",
              " '4': 0.3333333333333333,\n",
              " '5': 0.5333333333333333,\n",
              " '6': 0.3333333333333333,\n",
              " '7': 0.0}"
            ]
          },
          "execution_count": 12,
          "metadata": {},
          "output_type": "execute_result"
        }
      ],
      "source": [
        "nx.betweenness_centrality(reseau_social)"
      ]
    },
    {
      "cell_type": "raw",
      "metadata": {
        "id": "IRS3_yhY6NpB"
      },
      "source": [
        "N5 est l'acteur qui intervient le plus dans les liens entre les noeuds\n",
        "Interpréter les autres centralités"
      ]
    },
    {
      "cell_type": "code",
      "source": [],
      "metadata": {
        "id": "mxrLAPmh_XiM"
      },
      "execution_count": null,
      "outputs": []
    },
    {
      "cell_type": "markdown",
      "metadata": {
        "id": "NvbSkyg86NpB"
      },
      "source": [
        "Nœud 1 : Affichant une centralité de 0.0, ce nœud semble avoir une influence minimale en matière de médiation.\n",
        "\n",
        "Nœud 2 : Avec une centralité de 0.0333, ce nœud exerce une influence modeste dans la médiation des chemins les plus courts, bien qu'elle soit inférieure à celle du nœud 5.\n",
        "\n",
        "Nœud 3 : Présentant une centralité de 0.1, ce nœud indique une influence plus significative que les nœuds précédents, bien que moins marquée que celle du nœud 5.\n",
        "\n",
        "Nœud 4 et 6 : Ces deux nœuds affichent une centralité de 0.3333, une valeur relativement élevée suggérant qu'ils pourraient jouer un rôle clé dans la connectivité du réseau.\n",
        "\n",
        "Nœud 7 : Sa centralité de 0.0 suggère qu'il est rarement impliqué dans les chemins les plus courts entre les autres nœuds. Il pourrait donc avoir une moindre centralité dans la transmission d'information ou d'influence."
      ]
    },
    {
      "cell_type": "markdown",
      "metadata": {
        "id": "h5BkDdHk6NpC"
      },
      "source": [
        "### Coefficient de Clustering"
      ]
    },
    {
      "cell_type": "raw",
      "metadata": {
        "id": "VamVSQaP6NpC"
      },
      "source": [
        "Coefficient de clustering global (Rappel Chapitre2)"
      ]
    },
    {
      "cell_type": "code",
      "execution_count": null,
      "metadata": {
        "id": "S0wC0rz46NpC",
        "outputId": "bfb3a15b-eac1-4469-c5fd-94217808e8a4"
      },
      "outputs": [
        {
          "data": {
            "text/plain": [
              "0.5294117647058824"
            ]
          },
          "execution_count": 13,
          "metadata": {},
          "output_type": "execute_result"
        }
      ],
      "source": [
        "nx.transitivity(reseau_social)"
      ]
    },
    {
      "cell_type": "raw",
      "metadata": {
        "id": "cp7UHJFw6NpC"
      },
      "source": [
        "Coefficient de clustering local pour chaque noeud"
      ]
    },
    {
      "cell_type": "code",
      "execution_count": null,
      "metadata": {
        "id": "T-tUMUrq6NpC",
        "outputId": "dc78aff3-23fe-467a-96c9-927002734f9b"
      },
      "outputs": [
        {
          "data": {
            "text/plain": [
              "{'1': 1.0,\n",
              " '2': 0.6666666666666666,\n",
              " '3': 0.6666666666666666,\n",
              " '4': 0.5,\n",
              " '5': 0.3333333333333333,\n",
              " '6': 0,\n",
              " '7': 0}"
            ]
          },
          "execution_count": 14,
          "metadata": {},
          "output_type": "execute_result"
        }
      ],
      "source": [
        "local_clustering_coefficient = nx.clustering(reseau_social)\n",
        "local_clustering_coefficient"
      ]
    },
    {
      "cell_type": "raw",
      "metadata": {
        "id": "Ud4hjDde6NpC"
      },
      "source": [
        "cc (N1)= 1/1\n",
        "cc (N2)= 2 triangles/3 triades; les triades sont: 324, 321, 421\n",
        "Interpréter les cc de chaque acteur"
      ]
    },
    {
      "cell_type": "markdown",
      "metadata": {
        "id": "Alg4U6qP6NpC"
      },
      "source": [
        "N1 : Affichant un coefficient de clustering de 1/1, N1 forme un triangle complet avec tous ses voisins. Tous les voisins de N1 sont interconnectés, créant ainsi une structure extrêmement dense. Ceci témoigne d'une forte cohésion locale autour de N1.\n",
        "\n",
        "N2 : Avec un coefficient de clustering de 2 triangles/3 triades, N2 participe à deux triangles dans son voisinage immédiat. Les triades associées sont 324, 321, et 421.\n",
        "\n",
        "Triade 324 : Composée des nœuds '3', '2', et '4'.\n",
        "Triade 321 : Composée des nœuds '3', '2', et '1'.\n",
        "Triade 421 : Composée des nœuds '4', '2', et '1'.\n",
        "La participation de N2 à deux triangles suggère une certaine cohésion dans son voisinage, bien que le coefficient de 2/3 indique qu'il existe une triade où la connexion entre les voisins de N2 est absente."
      ]
    },
    {
      "cell_type": "markdown",
      "metadata": {
        "id": "VQMJLEM36NpD"
      },
      "source": [
        "### Distribution des degrés"
      ]
    },
    {
      "cell_type": "code",
      "execution_count": null,
      "metadata": {
        "id": "4m272rVT6NpD",
        "outputId": "339d28ac-b12a-42d6-973e-f417a31b78b6"
      },
      "outputs": [
        {
          "data": {
            "text/plain": [
              "[2, 3, 3, 4, 3, 2, 1]"
            ]
          },
          "execution_count": 15,
          "metadata": {},
          "output_type": "execute_result"
        }
      ],
      "source": [
        "degree = reseau_social.degree()\n",
        "\n",
        "degree_list = []\n",
        "\n",
        "for (n,d) in degree:\n",
        "    degree_list.append(d)\n",
        "\n",
        "av_degree = sum(degree_list) / len(degree_list)\n",
        "degree_list"
      ]
    },
    {
      "cell_type": "code",
      "execution_count": null,
      "metadata": {
        "id": "ROc_GocE6NpD",
        "outputId": "bed2cd29-c1f8-4ade-aa5e-c2bcf07dea56"
      },
      "outputs": [
        {
          "name": "stdout",
          "output_type": "stream",
          "text": [
            "La moyenne des degrés est 2.5714285714285716\n"
          ]
        }
      ],
      "source": [
        "print('La moyenne des degrés est ' + str(av_degree))"
      ]
    },
    {
      "cell_type": "raw",
      "metadata": {
        "id": "wtckd-S26NpD"
      },
      "source": [
        "Remarque\n",
        "Moyenne des degrés = 2m/n avec m : le nombre d'aretes et n : le nombre de noeuds (voir fin chapitre3ARS)\n",
        "Donc la somme des degrés= 2m"
      ]
    },
    {
      "cell_type": "code",
      "execution_count": null,
      "metadata": {
        "id": "ynRJ1Ek-6NpD",
        "outputId": "8cda0547-43cc-4185-86dc-0bbd6f13e973"
      },
      "outputs": [
        {
          "data": {
            "text/plain": [
              "Text(0.5, 1.0, 'Exemple1: Distribution des degrés')"
            ]
          },
          "execution_count": 17,
          "metadata": {},
          "output_type": "execute_result"
        },
        {
          "data": {
            "image/png": "[encoded data removed]",
            "text/plain": [
              "<Figure size 432x288 with 1 Axes>"
            ]
          },
          "metadata": {
            "needs_background": "light"
          },
          "output_type": "display_data"
        }
      ],
      "source": [
        "plt.hist(degree_list,label='Distribution des degrés')\n",
        "plt.axvline(av_degree,color='r',linestyle='dashed',label='Moyenne des degrés')\n",
        "plt.legend()\n",
        "plt.ylabel('Nombre de noeuds')\n",
        "plt.title('Exemple1: Distribution des degrés')"
      ]
    },
    {
      "cell_type": "markdown",
      "metadata": {
        "id": "xVCCG_qK6NpE"
      },
      "source": [
        "## Remarques diverses: local et global"
      ]
    },
    {
      "cell_type": "code",
      "execution_count": null,
      "metadata": {
        "id": "vF-C4kc16NpE",
        "outputId": "6bcc2388-7b51-42de-f7e0-e2c6874a39a2"
      },
      "outputs": [
        {
          "data": {
            "text/plain": [
              "1.57532281205165"
            ]
          },
          "execution_count": 18,
          "metadata": {},
          "output_type": "execute_result"
        }
      ],
      "source": [
        "nx.sigma (reseau_social) #degré de séparation"
      ]
    },
    {
      "cell_type": "code",
      "execution_count": null,
      "metadata": {
        "id": "NWulgwiG6NpE",
        "outputId": "5b207bde-2a25-4fc0-d223-70b961ef8d19"
      },
      "outputs": [
        {
          "name": "stdout",
          "output_type": "stream",
          "text": [
            "['1', '2', '3', '4', '5', '6', '7']\n"
          ]
        },
        {
          "data": {
            "text/plain": [
              "matrix([[0., 1., 0., 1., 0., 0., 0.],\n",
              "        [1., 0., 1., 1., 0., 0., 0.],\n",
              "        [0., 1., 0., 1., 1., 0., 0.],\n",
              "        [1., 1., 1., 0., 1., 0., 0.],\n",
              "        [0., 0., 1., 1., 0., 1., 0.],\n",
              "        [0., 0., 0., 0., 1., 0., 1.],\n",
              "        [0., 0., 0., 0., 0., 1., 0.]])"
            ]
          },
          "execution_count": 11,
          "metadata": {},
          "output_type": "execute_result"
        }
      ],
      "source": [
        "print (reseau_social.nodes())\n",
        "nx.to_numpy_matrix(reseau_social) #ou\n",
        "#\"to_numpy_matrix(reseau_social, nodelist= ['1','2','3','4','5', '6','7'])"
      ]
    },
    {
      "cell_type": "code",
      "execution_count": null,
      "metadata": {
        "id": "hAtfXgMc6NpE"
      },
      "outputs": [],
      "source": []
    }
  ],
  "metadata": {
    "kernelspec": {
      "display_name": "Python 3 (ipykernel)",
      "language": "python",
      "name": "python3"
    },
    "language_info": {
      "codemirror_mode": {
        "name": "ipython",
        "version": 3
      },
      "file_extension": ".py",
      "mimetype": "text/x-python",
      "name": "python",
      "nbconvert_exporter": "python",
      "pygments_lexer": "ipython3",
      "version": "3.9.7"
    },
    "colab": {
      "provenance": [],
      "include_colab_link": true
    }
  },
  "nbformat": 4,
  "nbformat_minor": 0
}